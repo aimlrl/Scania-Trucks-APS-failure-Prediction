{
 "cells": [
  {
   "cell_type": "markdown",
   "metadata": {},
   "source": [
    "# The assignment here involves classifying whether the Air Pressure System (APS) Failure will happen for a Scania Truck or not. Based on the 170 different vitals on different trucks, we have to train a model to predict the failure of APS in any random scania truck. \n",
    "\n",
    "# This dataset is a perfect example of a kind of datasets which we encounter is real life situations or in industry and pose as a big challenge to solve because there are numerous problems with this dataset and is not ideal from many aspects such as: \n",
    "\n",
    "# $\\bullet\\quad$The dataset is highly imbalanced which messes up with the model training. \n",
    "\n",
    "# $\\bullet\\quad$There are lot missing values in this dataset in almost every column which makes it hard to refine the dataset. \n",
    "\n",
    "# $\\bullet\\quad$The dimensionality of the dataset is very much, that is the number of columns are 170 which is a rarely occuring phenomena and hence itself poses a challenge as to how to deal with such rare situations. \n",
    "\n",
    "# $\\bullet\\quad$The variation in values in several columns is very much. \n",
    "\n",
    "# $\\bullet\\quad$There are several columns which don't look like categorical because the magnitude of the values in those columns is huge but at the same time, these values are integer values signifying that we have to treat them as categorcial which itself poses a challenge as to how to process these values. "
   ]
  },
  {
   "cell_type": "code",
   "execution_count": 1,
   "metadata": {},
   "outputs": [],
   "source": [
    "import pandas as pd\n",
    "import numpy as np\n",
    "import scipy.stats as s\n",
    "from sklearn.impute import SimpleImputer\n",
    "import matplotlib.pyplot as plt\n",
    "import seaborn as sns\n",
    "from Rashtriya_Raksha_University_Gaussian_NB import rru_gaussian_nb\n",
    "from imblearn.over_sampling import SMOTE\n",
    "from sklearn.naive_bayes import GaussianNB\n",
    "from sklearn.metrics import accuracy_score,precision_score,recall_score"
   ]
  },
  {
   "cell_type": "code",
   "execution_count": 2,
   "metadata": {},
   "outputs": [],
   "source": [
    "class rru_gaussian_nb_scania(rru_gaussian_nb):\n",
    "    \n",
    "    def __init__(xerox_copy,data,non_missing_threshold,split_ratio,apply_pca_or_not,n_principal_components):\n",
    "        data.replace(to_replace='na',value=np.nan,inplace=True)\n",
    "        data.dropna(axis=1,inplace=True,thresh=int(non_missing_threshold*data.shape[0]))\n",
    "        data_labels = data['class']\n",
    "        imputer = SimpleImputer()\n",
    "        data_array = imputer.fit_transform(X=data.iloc[:,1:])\n",
    "        data_columns = data.columns\n",
    "        data = pd.DataFrame(data=data_array,columns=data_columns[1:])\n",
    "        np_array_list = list()\n",
    "        \n",
    "        for column in data.columns:\n",
    "            data[column] = pd.qcut(x=data[column],q=10,duplicates='drop').cat.codes\n",
    "            np_array_list.append(np.eye(10,10)[data[column]])\n",
    "            \n",
    "        data_array = np.concatenate(np_array_list,axis=1)\n",
    "        data = pd.DataFrame(data=data_array)\n",
    "        data['class'] = data_labels\n",
    "        xerox_copy.data = data\n",
    "        \n",
    "        super().__init__(features=data.iloc[:,0:data.shape[1]-1],labels=data['class'],data_split_ratio=split_ratio,\n",
    "                         apply_pca=apply_pca_or_not,n_components=n_principal_components)"
   ]
  },
  {
   "cell_type": "code",
   "execution_count": 3,
   "metadata": {},
   "outputs": [
    {
     "name": "stderr",
     "output_type": "stream",
     "text": [
      "C:\\Users\\Public\\anaconda3\\lib\\site-packages\\IPython\\core\\interactiveshell.py:3146: DtypeWarning: Columns (1) have mixed types.Specify dtype option on import or set low_memory=False.\n",
      "  has_raised = await self.run_ast_nodes(code_ast.body, cell_name,\n"
     ]
    }
   ],
   "source": [
    "data = pd.read_csv(\"./aps_failure_training_set.csv\",header=None,skiprows=20)"
   ]
  },
  {
   "cell_type": "code",
   "execution_count": 4,
   "metadata": {},
   "outputs": [],
   "source": [
    "column_names = data.iloc[0]\n",
    "\n",
    "data = pd.read_csv(\"./aps_failure_training_set.csv\",header=None,skiprows=21,names=column_names)"
   ]
  },
  {
   "cell_type": "code",
   "execution_count": 5,
   "metadata": {},
   "outputs": [],
   "source": [
    "naive_bayes_configs = dict()\n",
    "\n",
    "for non_na_thresh in np.arange(0.7,1,0.1):\n",
    "    for n_comp in np.arange(20,170,50):\n",
    "        \n",
    "        naive_bayes_configs[(non_na_thresh,n_comp)] = rru_gaussian_nb_scania(data,non_na_thresh,\n",
    "                                                                             (0.8,0.2,0.0),True,n_comp)"
   ]
  },
  {
   "cell_type": "code",
   "execution_count": 6,
   "metadata": {},
   "outputs": [
    {
     "data": {
      "text/plain": [
       "{(0.7, 20): <__main__.rru_gaussian_nb_scania at 0x179204ad0d0>,\n",
       " (0.7, 70): <__main__.rru_gaussian_nb_scania at 0x1791ad10790>,\n",
       " (0.7, 120): <__main__.rru_gaussian_nb_scania at 0x179435a7fd0>,\n",
       " (0.7999999999999999, 20): <__main__.rru_gaussian_nb_scania at 0x1791ad04490>,\n",
       " (0.7999999999999999, 70): <__main__.rru_gaussian_nb_scania at 0x179204adb80>,\n",
       " (0.7999999999999999, 120): <__main__.rru_gaussian_nb_scania at 0x1794a1935b0>,\n",
       " (0.8999999999999999, 20): <__main__.rru_gaussian_nb_scania at 0x1794a193100>,\n",
       " (0.8999999999999999, 70): <__main__.rru_gaussian_nb_scania at 0x1794a1931f0>,\n",
       " (0.8999999999999999, 120): <__main__.rru_gaussian_nb_scania at 0x1794a193e20>,\n",
       " (0.9999999999999999, 20): <__main__.rru_gaussian_nb_scania at 0x1794a193ac0>,\n",
       " (0.9999999999999999, 70): <__main__.rru_gaussian_nb_scania at 0x1794946e3a0>,\n",
       " (0.9999999999999999, 120): <__main__.rru_gaussian_nb_scania at 0x1794946e670>}"
      ]
     },
     "execution_count": 6,
     "metadata": {},
     "output_type": "execute_result"
    }
   ],
   "source": [
    "naive_bayes_configs"
   ]
  },
  {
   "cell_type": "code",
   "execution_count": 7,
   "metadata": {},
   "outputs": [],
   "source": [
    "naive_bayes = list()\n",
    "cv_data_list = list()\n",
    "\n",
    "for obj in naive_bayes_configs.values():\n",
    "    X_resampled,y_resampled = SMOTE(sampling_strategy='minority').fit_sample(X=obj.X_new,y=data['class'])\n",
    "    data_resampled = pd.DataFrame(data=X_resampled)\n",
    "    data_resampled['class'] = data['class']\n",
    "    train_data,cv_data,test_data = obj.data_splitting(data_resampled)\n",
    "    cv_data_list.append(cv_data)\n",
    "    naive_bayes.append(GaussianNB().fit(X=np.array(train_data.iloc[:,0:train_data.shape[1]-1]),y=train_data['label']))"
   ]
  },
  {
   "cell_type": "code",
   "execution_count": 9,
   "metadata": {},
   "outputs": [],
   "source": [
    "metrics = dict()\n",
    "\n",
    "for obj,cv_data,config in tuple(zip(naive_bayes,cv_data_list,naive_bayes_configs.keys())):\n",
    "    predicted_category = obj.predict(X=np.array(cv_data.iloc[:,0:cv_data.shape[1]-1]))\n",
    "    acc = accuracy_score(y_true=np.array(cv_data['label']),y_pred=predicted_category)\n",
    "    precision = precision_score(y_true=np.array(cv_data['label']),y_pred=predicted_category,\n",
    "                                pos_label='pos',zero_division=1)\n",
    "    recall = recall_score(y_true=np.array(cv_data['label']),y_pred=predicted_category,\n",
    "                                pos_label='pos',zero_division=1)\n",
    "    metrics[config] = {'accuracy':acc,'precision':precision,'recall':recall}"
   ]
  },
  {
   "cell_type": "code",
   "execution_count": 10,
   "metadata": {},
   "outputs": [
    {
     "data": {
      "text/plain": [
       "{(0.7, 20): {'accuracy': 0.9361016949152542, 'precision': 0.0, 'recall': 1.0},\n",
       " (0.7, 70): {'accuracy': 0.9513559322033899, 'precision': 0.0, 'recall': 1.0},\n",
       " (0.7, 120): {'accuracy': 0.9513559322033899, 'precision': 0.0, 'recall': 1.0},\n",
       " (0.7999999999999999, 20): {'accuracy': 0.9408474576271186,\n",
       "  'precision': 0.0,\n",
       "  'recall': 1.0},\n",
       " (0.7999999999999999, 70): {'accuracy': 0.9533898305084746,\n",
       "  'precision': 0.0,\n",
       "  'recall': 1.0},\n",
       " (0.7999999999999999, 120): {'accuracy': 0.956864406779661,\n",
       "  'precision': 0.0,\n",
       "  'recall': 1.0},\n",
       " (0.8999999999999999, 20): {'accuracy': 0.9374576271186441,\n",
       "  'precision': 0.0,\n",
       "  'recall': 1.0},\n",
       " (0.8999999999999999, 70): {'accuracy': 0.9509322033898305,\n",
       "  'precision': 0.0,\n",
       "  'recall': 1.0},\n",
       " (0.8999999999999999, 120): {'accuracy': 0.9536440677966102,\n",
       "  'precision': 0.0,\n",
       "  'recall': 1.0},\n",
       " (0.9999999999999999, 20): {'accuracy': 0.9141525423728813,\n",
       "  'precision': 0.0,\n",
       "  'recall': 1.0},\n",
       " (0.9999999999999999, 70): {'accuracy': 0.9141525423728813,\n",
       "  'precision': 0.0,\n",
       "  'recall': 1.0},\n",
       " (0.9999999999999999, 120): {'accuracy': 0.9141525423728813,\n",
       "  'precision': 0.0,\n",
       "  'recall': 1.0}}"
      ]
     },
     "execution_count": 10,
     "metadata": {},
     "output_type": "execute_result"
    }
   ],
   "source": [
    "metrics"
   ]
  },
  {
   "cell_type": "markdown",
   "metadata": {},
   "source": [
    "# Using the metrics above, you can decide which configuration (which naive bayes classifier configuration in naive_bayes list)is working best for the case of Cross Validation Data."
   ]
  },
  {
   "cell_type": "markdown",
   "metadata": {},
   "source": [
    "# Use that trained configuration of naive bayes classifier in naive_bayes list to perform the prediction on testing data"
   ]
  },
  {
   "cell_type": "markdown",
   "metadata": {},
   "source": [
    "# This is going to be your assignment. "
   ]
  },
  {
   "cell_type": "code",
   "execution_count": null,
   "metadata": {},
   "outputs": [],
   "source": []
  }
 ],
 "metadata": {
  "kernelspec": {
   "display_name": "Python 3",
   "language": "python",
   "name": "python3"
  },
  "language_info": {
   "codemirror_mode": {
    "name": "ipython",
    "version": 3
   },
   "file_extension": ".py",
   "mimetype": "text/x-python",
   "name": "python",
   "nbconvert_exporter": "python",
   "pygments_lexer": "ipython3",
   "version": "3.8.5"
  }
 },
 "nbformat": 4,
 "nbformat_minor": 4
}
